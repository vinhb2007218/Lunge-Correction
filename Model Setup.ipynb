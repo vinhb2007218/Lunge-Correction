{
 "cells": [
  {
   "cell_type": "code",
   "execution_count": 1,
   "metadata": {},
   "outputs": [],
   "source": [
    "import numpy as np\n",
    "import pandas as pd\n",
    "import matplotlib.pyplot as plt\n",
    "\n",
    "from keras.layers import LSTM, Dense, Dropout, InputLayer\n",
    "from keras. models import Sequential\n",
    "from keras.callbacks import EarlyStopping\n",
    "from tensorflow.keras.models import load_model\n",
    "\n",
    "from sklearn.model_selection import train_test_split\n",
    "\n",
    "RANDOM_STATE = 42\n",
    "\n",
    "landmark = \"lunge_landmark_list.csv\""
   ]
  },
  {
   "cell_type": "code",
   "execution_count": 2,
   "metadata": {},
   "outputs": [
    {
     "name": "stdout",
     "output_type": "stream",
     "text": [
      "[[ 3.59708160e-01  3.39032948e-01  1.32435904e-04  9.94135499e-01\n",
      "   3.66261244e-01  3.25931638e-01 -1.97877083e-02  9.92705762e-01\n",
      "   3.67926568e-01  3.25662017e-01 -1.97835155e-02  9.91642773e-01\n",
      "   3.69760960e-01  3.25352520e-01 -1.98373366e-02  9.94493306e-01\n",
      "   3.66504997e-01  3.25631768e-01  1.41018610e-02  9.96573448e-01\n",
      "   3.68278921e-01  3.25127423e-01  1.41463950e-02  9.95963931e-01\n",
      "   3.70284110e-01  3.24534923e-01  1.41520472e-02  9.96535122e-01\n",
      "   3.86533976e-01  3.30684006e-01 -7.00394660e-02  9.90005076e-01\n",
      "   3.86926264e-01  3.28840166e-01  7.06672743e-02  9.95655000e-01\n",
      "   3.65125477e-01  3.53493571e-01 -1.94699205e-02  9.94630456e-01\n",
      "   3.65274459e-01  3.52994263e-01  2.34412663e-02  9.96192336e-01\n",
      "   4.06528890e-01  4.07295138e-01 -1.56155169e-01  9.99250412e-01\n",
      "   4.14753228e-01  3.99004608e-01  1.53304711e-01  9.98983860e-01\n",
      "   4.06323433e-01  6.00521803e-01 -9.90252793e-02  9.96262133e-01\n",
      "   4.11120325e-01  5.94424665e-01  9.89951342e-02  9.97752249e-01\n",
      "   2.95537263e-01  6.20336533e-01 -7.23368451e-02  7.65678823e-01\n",
      "   4.57629561e-01  7.19402850e-01  1.23955190e-01  9.22817469e-01\n",
      "   3.03912252e-01  7.68607199e-01 -1.11133256e-03  8.06420267e-01\n",
      "   5.33514023e-01  7.99857736e-01  1.27094835e-01  9.66353118e-01\n",
      "   3.15398455e-01  7.96281397e-01  7.67752156e-03  8.42997968e-01\n",
      "   5.48271477e-01  8.04450989e-01  1.28957257e-01  9.70444858e-01\n",
      "   2.60074854e-01  8.13221991e-01  4.11444716e-02  8.48298907e-01\n",
      "   5.44084370e-01  8.40945125e-01  1.22886911e-01  9.63883758e-01]\n",
      " [ 6.43545926e-01  3.36884111e-01 -4.16160710e-02  9.94497299e-01\n",
      "   6.35652125e-01  3.22153986e-01 -2.54855622e-02  9.93252695e-01\n",
      "   6.34832501e-01  3.21990281e-01 -2.54589412e-02  9.92258310e-01\n",
      "   6.33771718e-01  3.21766347e-01 -2.55507957e-02  9.94898140e-01\n",
      "   6.35546863e-01  3.22649539e-01 -6.23096675e-02  9.96793330e-01\n",
      "   6.34702802e-01  3.22750658e-01 -6.23909757e-02  9.96215045e-01\n",
      "   6.33575141e-01  3.22677165e-01 -6.24815784e-02  9.96757984e-01\n",
      "   6.16931140e-01  3.28437358e-01  2.24162061e-02  9.90689218e-01\n",
      "   6.17446303e-01  3.27456862e-01 -1.20602570e-01  9.96002138e-01\n",
      "   6.36430204e-01  3.51032674e-01 -2.33607795e-02  9.94971514e-01\n",
      "   6.36077583e-01  3.51215631e-01 -6.16089515e-02  9.96442199e-01\n",
      "   5.54631591e-01  3.98112804e-01  1.20141514e-01  9.99277830e-01\n",
      "   5.62300026e-01  3.95253062e-01 -1.88657328e-01  9.99072552e-01\n",
      "   5.18695235e-01  5.79334915e-01  9.92438272e-02  9.95467186e-01\n",
      "   5.19464254e-01  5.84339380e-01 -9.92039517e-02  9.96969521e-01\n",
      "   4.61411655e-01  6.85483396e-01  1.28096893e-01  7.07545936e-01\n",
      "   4.66518342e-01  7.09444106e-01 -9.96120945e-02  9.13970649e-01\n",
      "   3.57370406e-01  7.62992084e-01  2.04941198e-01  7.55020440e-01\n",
      "   3.75594199e-01  7.84305215e-01 -3.95179354e-02  9.59446251e-01\n",
      "   3.44268799e-01  7.74262905e-01  2.08720803e-01  8.05074215e-01\n",
      "   3.50165009e-01  7.84819961e-01 -3.57254408e-02  9.68106329e-01\n",
      "   3.36797923e-01  8.13377142e-01  1.62329003e-01  8.09140563e-01\n",
      "   3.91161859e-01  8.37464094e-01 -1.00895226e-01  9.60213661e-01]]\n"
     ]
    }
   ],
   "source": [
    "val_data = pd.read_csv(\"lunge_landmark.csv\",header=None)\n",
    "predict_val = []\n",
    "predict_val = val_data.iloc[:,1:-1].values\n",
    "\n",
    "predict_val = np.array(predict_val)\n",
    "print(predict_val)"
   ]
  },
  {
   "cell_type": "code",
   "execution_count": 3,
   "metadata": {},
   "outputs": [
    {
     "name": "stdout",
     "output_type": "stream",
     "text": [
      "[ 0.40194076  0.33393312 -0.13601847  0.74734479  0.41919982  0.31996542\n",
      " -0.16840395  0.77305055  0.42272061  0.32027501 -0.1683505   0.78490859\n",
      "  0.42605343  0.32060248 -0.16835988  0.77291518  0.41943327  0.31866401\n",
      " -0.09823107  0.76121753  0.42296043  0.31822973 -0.09815498  0.76437843\n",
      "  0.4262937   0.31773436 -0.09822591  0.75611573  0.45860475  0.32653132\n",
      " -0.27514914  0.77641994  0.45384064  0.32286662  0.055465    0.78141594\n",
      "  0.41489536  0.34611762 -0.17283009  0.79423821  0.41296837  0.34472665\n",
      " -0.07793105  0.78382212  0.51176745  0.39594656 -0.44987121  0.820526\n",
      "  0.45525628  0.38703406  0.16695996  0.84672314  0.51330525  0.637793\n",
      " -0.18129471  0.6978699   0.41127402  0.62975651  0.18091886  0.69764775\n",
      "  0.70678967  0.75225955 -0.23058493  0.59346741  0.16740066  0.67898726\n",
      " -0.10641927  0.61728048  0.90645015  0.83872271  0.05114789  0.61414456\n",
      "  0.16688615  0.83916909  0.09128548  0.58564365  0.92788547  0.84300661\n",
      "  0.07047405  0.6024279   0.19456562  0.87317502  0.0983523   0.58536583\n",
      "  0.92566466  0.88212192 -0.15164559  0.59030432  0.04918227  0.87753904\n",
      " -0.03825718  0.58457547]\n",
      "0\n",
      "(1005, 92) (1005,)\n"
     ]
    }
   ],
   "source": [
    "lunge_data = pd.read_csv(landmark, header=None)\n",
    "\n",
    "X = []\n",
    "y = []\n",
    "\n",
    "X = lunge_data.iloc[:,1:-1].values\n",
    "print (X[0])\n",
    "y = lunge_data.iloc[:,-1].values\n",
    "print (y[0])\n",
    "    \n",
    "X, y = np.array(X), np.array(y)\n",
    "print(X.shape, y.shape)"
   ]
  },
  {
   "cell_type": "code",
   "execution_count": 4,
   "metadata": {},
   "outputs": [],
   "source": [
    "#shuffle and split training and test data\n",
    "X_train, X_test, y_train, y_test = train_test_split(X, y, test_size=0.2, random_state=RANDOM_STATE, shuffle=True)"
   ]
  },
  {
   "cell_type": "code",
   "execution_count": 5,
   "metadata": {},
   "outputs": [],
   "source": [
    "# test_model = load_model('proto_model_test.h5')"
   ]
  },
  {
   "cell_type": "code",
   "execution_count": 6,
   "metadata": {},
   "outputs": [],
   "source": [
    "# # print(X_test)\n",
    "\n",
    "# from random import randrange\n",
    "# random_seed = randrange(0,201)\n",
    "# # print(len(X_test))\n",
    "# # print(len(y_test))\n",
    "# test_res = test_model.predict(np.array([X_test[random_seed]]))\n",
    "# print(np.squeeze(test_res))\n",
    "# print('Prediction:', np.argmax(np.squeeze(test_res)))\n",
    "# print('Label:', y_test[random_seed])\n",
    "# print('Validity:', str(np.argmax(np.squeeze(test_res))) == str(y_test[random_seed]))"
   ]
  },
  {
   "cell_type": "code",
   "execution_count": 7,
   "metadata": {},
   "outputs": [
    {
     "data": {
      "text/html": [
       "<pre style=\"white-space:pre;overflow-x:auto;line-height:normal;font-family:Menlo,'DejaVu Sans Mono',consolas,'Courier New',monospace\"><span style=\"font-weight: bold\">Model: \"sequential\"</span>\n",
       "</pre>\n"
      ],
      "text/plain": [
       "\u001b[1mModel: \"sequential\"\u001b[0m\n"
      ]
     },
     "metadata": {},
     "output_type": "display_data"
    },
    {
     "data": {
      "text/html": [
       "<pre style=\"white-space:pre;overflow-x:auto;line-height:normal;font-family:Menlo,'DejaVu Sans Mono',consolas,'Courier New',monospace\">┏━━━━━━━━━━━━━━━━━━━━━━━━━━━━━━━━━┳━━━━━━━━━━━━━━━━━━━━━━━━┳━━━━━━━━━━━━━━━┓\n",
       "┃<span style=\"font-weight: bold\"> Layer (type)                    </span>┃<span style=\"font-weight: bold\"> Output Shape           </span>┃<span style=\"font-weight: bold\">       Param # </span>┃\n",
       "┡━━━━━━━━━━━━━━━━━━━━━━━━━━━━━━━━━╇━━━━━━━━━━━━━━━━━━━━━━━━╇━━━━━━━━━━━━━━━┩\n",
       "│ dense (<span style=\"color: #0087ff; text-decoration-color: #0087ff\">Dense</span>)                   │ (<span style=\"color: #00d7ff; text-decoration-color: #00d7ff\">None</span>, <span style=\"color: #00af00; text-decoration-color: #00af00\">32</span>)             │         <span style=\"color: #00af00; text-decoration-color: #00af00\">2,976</span> │\n",
       "├─────────────────────────────────┼────────────────────────┼───────────────┤\n",
       "│ dropout (<span style=\"color: #0087ff; text-decoration-color: #0087ff\">Dropout</span>)               │ (<span style=\"color: #00d7ff; text-decoration-color: #00d7ff\">None</span>, <span style=\"color: #00af00; text-decoration-color: #00af00\">32</span>)             │             <span style=\"color: #00af00; text-decoration-color: #00af00\">0</span> │\n",
       "├─────────────────────────────────┼────────────────────────┼───────────────┤\n",
       "│ dense_1 (<span style=\"color: #0087ff; text-decoration-color: #0087ff\">Dense</span>)                 │ (<span style=\"color: #00d7ff; text-decoration-color: #00d7ff\">None</span>, <span style=\"color: #00af00; text-decoration-color: #00af00\">64</span>)             │         <span style=\"color: #00af00; text-decoration-color: #00af00\">2,112</span> │\n",
       "├─────────────────────────────────┼────────────────────────┼───────────────┤\n",
       "│ dropout_1 (<span style=\"color: #0087ff; text-decoration-color: #0087ff\">Dropout</span>)             │ (<span style=\"color: #00d7ff; text-decoration-color: #00d7ff\">None</span>, <span style=\"color: #00af00; text-decoration-color: #00af00\">64</span>)             │             <span style=\"color: #00af00; text-decoration-color: #00af00\">0</span> │\n",
       "├─────────────────────────────────┼────────────────────────┼───────────────┤\n",
       "│ dense_2 (<span style=\"color: #0087ff; text-decoration-color: #0087ff\">Dense</span>)                 │ (<span style=\"color: #00d7ff; text-decoration-color: #00d7ff\">None</span>, <span style=\"color: #00af00; text-decoration-color: #00af00\">2</span>)              │           <span style=\"color: #00af00; text-decoration-color: #00af00\">130</span> │\n",
       "└─────────────────────────────────┴────────────────────────┴───────────────┘\n",
       "</pre>\n"
      ],
      "text/plain": [
       "┏━━━━━━━━━━━━━━━━━━━━━━━━━━━━━━━━━┳━━━━━━━━━━━━━━━━━━━━━━━━┳━━━━━━━━━━━━━━━┓\n",
       "┃\u001b[1m \u001b[0m\u001b[1mLayer (type)                   \u001b[0m\u001b[1m \u001b[0m┃\u001b[1m \u001b[0m\u001b[1mOutput Shape          \u001b[0m\u001b[1m \u001b[0m┃\u001b[1m \u001b[0m\u001b[1m      Param #\u001b[0m\u001b[1m \u001b[0m┃\n",
       "┡━━━━━━━━━━━━━━━━━━━━━━━━━━━━━━━━━╇━━━━━━━━━━━━━━━━━━━━━━━━╇━━━━━━━━━━━━━━━┩\n",
       "│ dense (\u001b[38;5;33mDense\u001b[0m)                   │ (\u001b[38;5;45mNone\u001b[0m, \u001b[38;5;34m32\u001b[0m)             │         \u001b[38;5;34m2,976\u001b[0m │\n",
       "├─────────────────────────────────┼────────────────────────┼───────────────┤\n",
       "│ dropout (\u001b[38;5;33mDropout\u001b[0m)               │ (\u001b[38;5;45mNone\u001b[0m, \u001b[38;5;34m32\u001b[0m)             │             \u001b[38;5;34m0\u001b[0m │\n",
       "├─────────────────────────────────┼────────────────────────┼───────────────┤\n",
       "│ dense_1 (\u001b[38;5;33mDense\u001b[0m)                 │ (\u001b[38;5;45mNone\u001b[0m, \u001b[38;5;34m64\u001b[0m)             │         \u001b[38;5;34m2,112\u001b[0m │\n",
       "├─────────────────────────────────┼────────────────────────┼───────────────┤\n",
       "│ dropout_1 (\u001b[38;5;33mDropout\u001b[0m)             │ (\u001b[38;5;45mNone\u001b[0m, \u001b[38;5;34m64\u001b[0m)             │             \u001b[38;5;34m0\u001b[0m │\n",
       "├─────────────────────────────────┼────────────────────────┼───────────────┤\n",
       "│ dense_2 (\u001b[38;5;33mDense\u001b[0m)                 │ (\u001b[38;5;45mNone\u001b[0m, \u001b[38;5;34m2\u001b[0m)              │           \u001b[38;5;34m130\u001b[0m │\n",
       "└─────────────────────────────────┴────────────────────────┴───────────────┘\n"
      ]
     },
     "metadata": {},
     "output_type": "display_data"
    },
    {
     "data": {
      "text/html": [
       "<pre style=\"white-space:pre;overflow-x:auto;line-height:normal;font-family:Menlo,'DejaVu Sans Mono',consolas,'Courier New',monospace\"><span style=\"font-weight: bold\"> Total params: </span><span style=\"color: #00af00; text-decoration-color: #00af00\">5,218</span> (20.38 KB)\n",
       "</pre>\n"
      ],
      "text/plain": [
       "\u001b[1m Total params: \u001b[0m\u001b[38;5;34m5,218\u001b[0m (20.38 KB)\n"
      ]
     },
     "metadata": {},
     "output_type": "display_data"
    },
    {
     "data": {
      "text/html": [
       "<pre style=\"white-space:pre;overflow-x:auto;line-height:normal;font-family:Menlo,'DejaVu Sans Mono',consolas,'Courier New',monospace\"><span style=\"font-weight: bold\"> Trainable params: </span><span style=\"color: #00af00; text-decoration-color: #00af00\">5,218</span> (20.38 KB)\n",
       "</pre>\n"
      ],
      "text/plain": [
       "\u001b[1m Trainable params: \u001b[0m\u001b[38;5;34m5,218\u001b[0m (20.38 KB)\n"
      ]
     },
     "metadata": {},
     "output_type": "display_data"
    },
    {
     "data": {
      "text/html": [
       "<pre style=\"white-space:pre;overflow-x:auto;line-height:normal;font-family:Menlo,'DejaVu Sans Mono',consolas,'Courier New',monospace\"><span style=\"font-weight: bold\"> Non-trainable params: </span><span style=\"color: #00af00; text-decoration-color: #00af00\">0</span> (0.00 B)\n",
       "</pre>\n"
      ],
      "text/plain": [
       "\u001b[1m Non-trainable params: \u001b[0m\u001b[38;5;34m0\u001b[0m (0.00 B)\n"
      ]
     },
     "metadata": {},
     "output_type": "display_data"
    }
   ],
   "source": [
    "#build model\n",
    "model = Sequential()\n",
    "model.add(InputLayer(shape=(92,)))\n",
    "model.add(Dense(32, activation=\"relu\"))\n",
    "# model.add(Dense(20, activation=\"relu\"))\n",
    "model.add(Dropout(0.4))\n",
    "model.add(Dense(64, activation=\"relu\"))\n",
    "model.add(Dropout(0.3))\n",
    "model.add(Dense(units=2, activation=\"softmax\"))\n",
    "model.compile(optimizer=\"adam\", metrics=['accuracy'], loss=\"sparse_categorical_crossentropy\")\n",
    "model.summary()\n"
   ]
  },
  {
   "cell_type": "code",
   "execution_count": 8,
   "metadata": {},
   "outputs": [
    {
     "name": "stdout",
     "output_type": "stream",
     "text": [
      "Epoch 1/500\n",
      "\u001b[1m13/13\u001b[0m \u001b[32m━━━━━━━━━━━━━━━━━━━━\u001b[0m\u001b[37m\u001b[0m \u001b[1m5s\u001b[0m 31ms/step - accuracy: 0.5279 - loss: 0.7462 - val_accuracy: 0.5920 - val_loss: 0.6836\n",
      "Epoch 2/500\n",
      "\u001b[1m13/13\u001b[0m \u001b[32m━━━━━━━━━━━━━━━━━━━━\u001b[0m\u001b[37m\u001b[0m \u001b[1m0s\u001b[0m 3ms/step - accuracy: 0.5336 - loss: 0.6982 - val_accuracy: 0.7463 - val_loss: 0.6623\n",
      "Epoch 3/500\n",
      "\u001b[1m13/13\u001b[0m \u001b[32m━━━━━━━━━━━━━━━━━━━━\u001b[0m\u001b[37m\u001b[0m \u001b[1m0s\u001b[0m 3ms/step - accuracy: 0.6178 - loss: 0.6659 - val_accuracy: 0.7811 - val_loss: 0.6381\n",
      "Epoch 4/500\n",
      "\u001b[1m13/13\u001b[0m \u001b[32m━━━━━━━━━━━━━━━━━━━━\u001b[0m\u001b[37m\u001b[0m \u001b[1m0s\u001b[0m 5ms/step - accuracy: 0.6691 - loss: 0.6442 - val_accuracy: 0.8010 - val_loss: 0.6060\n",
      "Epoch 5/500\n",
      "\u001b[1m13/13\u001b[0m \u001b[32m━━━━━━━━━━━━━━━━━━━━\u001b[0m\u001b[37m\u001b[0m \u001b[1m0s\u001b[0m 3ms/step - accuracy: 0.6617 - loss: 0.6253 - val_accuracy: 0.8060 - val_loss: 0.5683\n",
      "Epoch 6/500\n",
      "\u001b[1m13/13\u001b[0m \u001b[32m━━━━━━━━━━━━━━━━━━━━\u001b[0m\u001b[37m\u001b[0m \u001b[1m0s\u001b[0m 3ms/step - accuracy: 0.7122 - loss: 0.5912 - val_accuracy: 0.8010 - val_loss: 0.5294\n",
      "Epoch 7/500\n",
      "\u001b[1m13/13\u001b[0m \u001b[32m━━━━━━━━━━━━━━━━━━━━\u001b[0m\u001b[37m\u001b[0m \u001b[1m0s\u001b[0m 3ms/step - accuracy: 0.7792 - loss: 0.5400 - val_accuracy: 0.8259 - val_loss: 0.4799\n",
      "Epoch 8/500\n",
      "\u001b[1m13/13\u001b[0m \u001b[32m━━━━━━━━━━━━━━━━━━━━\u001b[0m\u001b[37m\u001b[0m \u001b[1m0s\u001b[0m 4ms/step - accuracy: 0.7656 - loss: 0.5000 - val_accuracy: 0.8308 - val_loss: 0.4396\n",
      "Epoch 9/500\n",
      "\u001b[1m13/13\u001b[0m \u001b[32m━━━━━━━━━━━━━━━━━━━━\u001b[0m\u001b[37m\u001b[0m \u001b[1m0s\u001b[0m 3ms/step - accuracy: 0.7909 - loss: 0.4658 - val_accuracy: 0.8408 - val_loss: 0.4147\n",
      "Epoch 10/500\n",
      "\u001b[1m13/13\u001b[0m \u001b[32m━━━━━━━━━━━━━━━━━━━━\u001b[0m\u001b[37m\u001b[0m \u001b[1m0s\u001b[0m 4ms/step - accuracy: 0.7932 - loss: 0.4448 - val_accuracy: 0.8308 - val_loss: 0.3887\n",
      "Epoch 11/500\n",
      "\u001b[1m13/13\u001b[0m \u001b[32m━━━━━━━━━━━━━━━━━━━━\u001b[0m\u001b[37m\u001b[0m \u001b[1m0s\u001b[0m 5ms/step - accuracy: 0.8080 - loss: 0.4187 - val_accuracy: 0.8209 - val_loss: 0.3748\n",
      "Epoch 12/500\n",
      "\u001b[1m13/13\u001b[0m \u001b[32m━━━━━━━━━━━━━━━━━━━━\u001b[0m\u001b[37m\u001b[0m \u001b[1m0s\u001b[0m 4ms/step - accuracy: 0.8238 - loss: 0.4086 - val_accuracy: 0.8308 - val_loss: 0.3826\n",
      "Epoch 13/500\n",
      "\u001b[1m13/13\u001b[0m \u001b[32m━━━━━━━━━━━━━━━━━━━━\u001b[0m\u001b[37m\u001b[0m \u001b[1m0s\u001b[0m 3ms/step - accuracy: 0.8177 - loss: 0.3909 - val_accuracy: 0.8259 - val_loss: 0.3602\n",
      "Epoch 14/500\n",
      "\u001b[1m13/13\u001b[0m \u001b[32m━━━━━━━━━━━━━━━━━━━━\u001b[0m\u001b[37m\u001b[0m \u001b[1m0s\u001b[0m 4ms/step - accuracy: 0.7769 - loss: 0.4036 - val_accuracy: 0.8358 - val_loss: 0.3471\n",
      "Epoch 15/500\n",
      "\u001b[1m13/13\u001b[0m \u001b[32m━━━━━━━━━━━━━━━━━━━━\u001b[0m\u001b[37m\u001b[0m \u001b[1m0s\u001b[0m 4ms/step - accuracy: 0.8490 - loss: 0.3514 - val_accuracy: 0.8408 - val_loss: 0.3434\n",
      "Epoch 16/500\n",
      "\u001b[1m13/13\u001b[0m \u001b[32m━━━━━━━━━━━━━━━━━━━━\u001b[0m\u001b[37m\u001b[0m \u001b[1m0s\u001b[0m 3ms/step - accuracy: 0.8321 - loss: 0.3803 - val_accuracy: 0.8458 - val_loss: 0.3327\n",
      "Epoch 17/500\n",
      "\u001b[1m13/13\u001b[0m \u001b[32m━━━━━━━━━━━━━━━━━━━━\u001b[0m\u001b[37m\u001b[0m \u001b[1m0s\u001b[0m 3ms/step - accuracy: 0.8355 - loss: 0.3465 - val_accuracy: 0.8507 - val_loss: 0.3237\n",
      "Epoch 18/500\n",
      "\u001b[1m13/13\u001b[0m \u001b[32m━━━━━━━━━━━━━━━━━━━━\u001b[0m\u001b[37m\u001b[0m \u001b[1m0s\u001b[0m 5ms/step - accuracy: 0.8435 - loss: 0.3485 - val_accuracy: 0.8308 - val_loss: 0.3215\n",
      "Epoch 19/500\n",
      "\u001b[1m13/13\u001b[0m \u001b[32m━━━━━━━━━━━━━━━━━━━━\u001b[0m\u001b[37m\u001b[0m \u001b[1m0s\u001b[0m 4ms/step - accuracy: 0.8551 - loss: 0.3135 - val_accuracy: 0.8557 - val_loss: 0.3211\n",
      "Epoch 20/500\n",
      "\u001b[1m13/13\u001b[0m \u001b[32m━━━━━━━━━━━━━━━━━━━━\u001b[0m\u001b[37m\u001b[0m \u001b[1m0s\u001b[0m 4ms/step - accuracy: 0.8494 - loss: 0.3198 - val_accuracy: 0.8607 - val_loss: 0.3150\n",
      "Epoch 21/500\n",
      "\u001b[1m13/13\u001b[0m \u001b[32m━━━━━━━━━━━━━━━━━━━━\u001b[0m\u001b[37m\u001b[0m \u001b[1m0s\u001b[0m 4ms/step - accuracy: 0.8582 - loss: 0.3169 - val_accuracy: 0.8408 - val_loss: 0.3088\n",
      "Epoch 22/500\n",
      "\u001b[1m13/13\u001b[0m \u001b[32m━━━━━━━━━━━━━━━━━━━━\u001b[0m\u001b[37m\u001b[0m \u001b[1m0s\u001b[0m 4ms/step - accuracy: 0.8400 - loss: 0.3211 - val_accuracy: 0.8557 - val_loss: 0.3059\n",
      "Epoch 23/500\n",
      "\u001b[1m13/13\u001b[0m \u001b[32m━━━━━━━━━━━━━━━━━━━━\u001b[0m\u001b[37m\u001b[0m \u001b[1m0s\u001b[0m 4ms/step - accuracy: 0.8505 - loss: 0.3227 - val_accuracy: 0.8358 - val_loss: 0.3027\n",
      "Epoch 24/500\n",
      "\u001b[1m13/13\u001b[0m \u001b[32m━━━━━━━━━━━━━━━━━━━━\u001b[0m\u001b[37m\u001b[0m \u001b[1m0s\u001b[0m 4ms/step - accuracy: 0.8739 - loss: 0.3022 - val_accuracy: 0.8557 - val_loss: 0.3016\n",
      "Epoch 25/500\n",
      "\u001b[1m13/13\u001b[0m \u001b[32m━━━━━━━━━━━━━━━━━━━━\u001b[0m\u001b[37m\u001b[0m \u001b[1m0s\u001b[0m 4ms/step - accuracy: 0.8605 - loss: 0.3325 - val_accuracy: 0.8458 - val_loss: 0.3025\n",
      "Epoch 26/500\n",
      "\u001b[1m13/13\u001b[0m \u001b[32m━━━━━━━━━━━━━━━━━━━━\u001b[0m\u001b[37m\u001b[0m \u001b[1m0s\u001b[0m 3ms/step - accuracy: 0.8601 - loss: 0.3129 - val_accuracy: 0.8657 - val_loss: 0.2959\n",
      "Epoch 27/500\n",
      "\u001b[1m13/13\u001b[0m \u001b[32m━━━━━━━━━━━━━━━━━━━━\u001b[0m\u001b[37m\u001b[0m \u001b[1m0s\u001b[0m 4ms/step - accuracy: 0.8580 - loss: 0.3203 - val_accuracy: 0.8607 - val_loss: 0.2910\n",
      "Epoch 28/500\n",
      "\u001b[1m13/13\u001b[0m \u001b[32m━━━━━━━━━━━━━━━━━━━━\u001b[0m\u001b[37m\u001b[0m \u001b[1m0s\u001b[0m 5ms/step - accuracy: 0.8794 - loss: 0.2732 - val_accuracy: 0.8507 - val_loss: 0.2948\n",
      "Epoch 29/500\n",
      "\u001b[1m13/13\u001b[0m \u001b[32m━━━━━━━━━━━━━━━━━━━━\u001b[0m\u001b[37m\u001b[0m \u001b[1m0s\u001b[0m 3ms/step - accuracy: 0.8565 - loss: 0.2857 - val_accuracy: 0.8806 - val_loss: 0.2904\n",
      "Epoch 30/500\n",
      "\u001b[1m13/13\u001b[0m \u001b[32m━━━━━━━━━━━━━━━━━━━━\u001b[0m\u001b[37m\u001b[0m \u001b[1m0s\u001b[0m 3ms/step - accuracy: 0.8512 - loss: 0.2855 - val_accuracy: 0.8706 - val_loss: 0.2966\n",
      "Epoch 31/500\n",
      "\u001b[1m13/13\u001b[0m \u001b[32m━━━━━━━━━━━━━━━━━━━━\u001b[0m\u001b[37m\u001b[0m \u001b[1m0s\u001b[0m 3ms/step - accuracy: 0.8688 - loss: 0.2898 - val_accuracy: 0.8458 - val_loss: 0.3012\n",
      "Epoch 32/500\n",
      "\u001b[1m13/13\u001b[0m \u001b[32m━━━━━━━━━━━━━━━━━━━━\u001b[0m\u001b[37m\u001b[0m \u001b[1m0s\u001b[0m 4ms/step - accuracy: 0.8458 - loss: 0.2931 - val_accuracy: 0.8706 - val_loss: 0.2959\n",
      "Epoch 33/500\n",
      "\u001b[1m13/13\u001b[0m \u001b[32m━━━━━━━━━━━━━━━━━━━━\u001b[0m\u001b[37m\u001b[0m \u001b[1m0s\u001b[0m 3ms/step - accuracy: 0.8737 - loss: 0.2771 - val_accuracy: 0.8458 - val_loss: 0.2916\n",
      "Epoch 34/500\n",
      "\u001b[1m13/13\u001b[0m \u001b[32m━━━━━━━━━━━━━━━━━━━━\u001b[0m\u001b[37m\u001b[0m \u001b[1m0s\u001b[0m 4ms/step - accuracy: 0.8615 - loss: 0.2987 - val_accuracy: 0.8657 - val_loss: 0.2878\n",
      "Epoch 35/500\n",
      "\u001b[1m13/13\u001b[0m \u001b[32m━━━━━━━━━━━━━━━━━━━━\u001b[0m\u001b[37m\u001b[0m \u001b[1m0s\u001b[0m 5ms/step - accuracy: 0.8714 - loss: 0.2875 - val_accuracy: 0.8657 - val_loss: 0.2879\n",
      "Epoch 36/500\n",
      "\u001b[1m13/13\u001b[0m \u001b[32m━━━━━━━━━━━━━━━━━━━━\u001b[0m\u001b[37m\u001b[0m \u001b[1m0s\u001b[0m 4ms/step - accuracy: 0.8585 - loss: 0.2765 - val_accuracy: 0.8706 - val_loss: 0.2861\n",
      "Epoch 37/500\n",
      "\u001b[1m13/13\u001b[0m \u001b[32m━━━━━━━━━━━━━━━━━━━━\u001b[0m\u001b[37m\u001b[0m \u001b[1m0s\u001b[0m 3ms/step - accuracy: 0.8726 - loss: 0.2695 - val_accuracy: 0.8607 - val_loss: 0.2863\n",
      "Epoch 38/500\n",
      "\u001b[1m13/13\u001b[0m \u001b[32m━━━━━━━━━━━━━━━━━━━━\u001b[0m\u001b[37m\u001b[0m \u001b[1m0s\u001b[0m 4ms/step - accuracy: 0.8672 - loss: 0.2530 - val_accuracy: 0.8657 - val_loss: 0.2825\n",
      "Epoch 39/500\n",
      "\u001b[1m13/13\u001b[0m \u001b[32m━━━━━━━━━━━━━━━━━━━━\u001b[0m\u001b[37m\u001b[0m \u001b[1m0s\u001b[0m 3ms/step - accuracy: 0.8465 - loss: 0.2831 - val_accuracy: 0.8756 - val_loss: 0.2827\n",
      "Epoch 40/500\n",
      "\u001b[1m13/13\u001b[0m \u001b[32m━━━━━━━━━━━━━━━━━━━━\u001b[0m\u001b[37m\u001b[0m \u001b[1m0s\u001b[0m 3ms/step - accuracy: 0.8573 - loss: 0.2868 - val_accuracy: 0.8607 - val_loss: 0.2862\n",
      "Epoch 41/500\n",
      "\u001b[1m13/13\u001b[0m \u001b[32m━━━━━━━━━━━━━━━━━━━━\u001b[0m\u001b[37m\u001b[0m \u001b[1m0s\u001b[0m 3ms/step - accuracy: 0.8750 - loss: 0.2687 - val_accuracy: 0.8607 - val_loss: 0.2853\n",
      "Epoch 42/500\n",
      "\u001b[1m13/13\u001b[0m \u001b[32m━━━━━━━━━━━━━━━━━━━━\u001b[0m\u001b[37m\u001b[0m \u001b[1m0s\u001b[0m 4ms/step - accuracy: 0.8740 - loss: 0.2777 - val_accuracy: 0.8806 - val_loss: 0.2830\n",
      "Epoch 43/500\n",
      "\u001b[1m13/13\u001b[0m \u001b[32m━━━━━━━━━━━━━━━━━━━━\u001b[0m\u001b[37m\u001b[0m \u001b[1m0s\u001b[0m 3ms/step - accuracy: 0.8535 - loss: 0.2714 - val_accuracy: 0.8507 - val_loss: 0.2891\n",
      "Epoch 44/500\n",
      "\u001b[1m13/13\u001b[0m \u001b[32m━━━━━━━━━━━━━━━━━━━━\u001b[0m\u001b[37m\u001b[0m \u001b[1m0s\u001b[0m 4ms/step - accuracy: 0.8594 - loss: 0.2783 - val_accuracy: 0.8905 - val_loss: 0.2830\n",
      "Epoch 45/500\n",
      "\u001b[1m13/13\u001b[0m \u001b[32m━━━━━━━━━━━━━━━━━━━━\u001b[0m\u001b[37m\u001b[0m \u001b[1m0s\u001b[0m 4ms/step - accuracy: 0.8954 - loss: 0.2449 - val_accuracy: 0.8756 - val_loss: 0.2781\n",
      "Epoch 46/500\n",
      "\u001b[1m13/13\u001b[0m \u001b[32m━━━━━━━━━━━━━━━━━━━━\u001b[0m\u001b[37m\u001b[0m \u001b[1m0s\u001b[0m 3ms/step - accuracy: 0.8556 - loss: 0.2815 - val_accuracy: 0.8856 - val_loss: 0.2823\n",
      "Epoch 47/500\n",
      "\u001b[1m13/13\u001b[0m \u001b[32m━━━━━━━━━━━━━━━━━━━━\u001b[0m\u001b[37m\u001b[0m \u001b[1m0s\u001b[0m 3ms/step - accuracy: 0.8770 - loss: 0.2639 - val_accuracy: 0.8557 - val_loss: 0.2944\n",
      "Epoch 48/500\n",
      "\u001b[1m13/13\u001b[0m \u001b[32m━━━━━━━━━━━━━━━━━━━━\u001b[0m\u001b[37m\u001b[0m \u001b[1m0s\u001b[0m 4ms/step - accuracy: 0.8798 - loss: 0.2481 - val_accuracy: 0.8806 - val_loss: 0.2887\n",
      "Epoch 49/500\n",
      "\u001b[1m13/13\u001b[0m \u001b[32m━━━━━━━━━━━━━━━━━━━━\u001b[0m\u001b[37m\u001b[0m \u001b[1m0s\u001b[0m 5ms/step - accuracy: 0.8540 - loss: 0.2859 - val_accuracy: 0.8905 - val_loss: 0.2806\n",
      "Epoch 50/500\n",
      "\u001b[1m13/13\u001b[0m \u001b[32m━━━━━━━━━━━━━━━━━━━━\u001b[0m\u001b[37m\u001b[0m \u001b[1m0s\u001b[0m 3ms/step - accuracy: 0.8919 - loss: 0.2362 - val_accuracy: 0.8557 - val_loss: 0.2802\n",
      "Epoch 51/500\n",
      "\u001b[1m13/13\u001b[0m \u001b[32m━━━━━━━━━━━━━━━━━━━━\u001b[0m\u001b[37m\u001b[0m \u001b[1m0s\u001b[0m 4ms/step - accuracy: 0.8733 - loss: 0.2683 - val_accuracy: 0.8607 - val_loss: 0.2835\n",
      "Epoch 52/500\n",
      "\u001b[1m13/13\u001b[0m \u001b[32m━━━━━━━━━━━━━━━━━━━━\u001b[0m\u001b[37m\u001b[0m \u001b[1m0s\u001b[0m 5ms/step - accuracy: 0.8657 - loss: 0.2799 - val_accuracy: 0.8856 - val_loss: 0.2788\n",
      "Epoch 53/500\n",
      "\u001b[1m13/13\u001b[0m \u001b[32m━━━━━━━━━━━━━━━━━━━━\u001b[0m\u001b[37m\u001b[0m \u001b[1m0s\u001b[0m 4ms/step - accuracy: 0.8611 - loss: 0.2534 - val_accuracy: 0.8756 - val_loss: 0.2832\n",
      "Epoch 54/500\n",
      "\u001b[1m13/13\u001b[0m \u001b[32m━━━━━━━━━━━━━━━━━━━━\u001b[0m\u001b[37m\u001b[0m \u001b[1m0s\u001b[0m 4ms/step - accuracy: 0.8591 - loss: 0.2756 - val_accuracy: 0.8607 - val_loss: 0.2831\n",
      "Epoch 55/500\n",
      "\u001b[1m13/13\u001b[0m \u001b[32m━━━━━━━━━━━━━━━━━━━━\u001b[0m\u001b[37m\u001b[0m \u001b[1m0s\u001b[0m 5ms/step - accuracy: 0.8877 - loss: 0.2548 - val_accuracy: 0.8806 - val_loss: 0.2803\n",
      "Epoch 56/500\n",
      "\u001b[1m13/13\u001b[0m \u001b[32m━━━━━━━━━━━━━━━━━━━━\u001b[0m\u001b[37m\u001b[0m \u001b[1m0s\u001b[0m 3ms/step - accuracy: 0.8850 - loss: 0.2584 - val_accuracy: 0.8955 - val_loss: 0.2764\n",
      "Epoch 57/500\n",
      "\u001b[1m13/13\u001b[0m \u001b[32m━━━━━━━━━━━━━━━━━━━━\u001b[0m\u001b[37m\u001b[0m \u001b[1m0s\u001b[0m 4ms/step - accuracy: 0.8885 - loss: 0.2604 - val_accuracy: 0.8806 - val_loss: 0.2798\n",
      "Epoch 58/500\n",
      "\u001b[1m13/13\u001b[0m \u001b[32m━━━━━━━━━━━━━━━━━━━━\u001b[0m\u001b[37m\u001b[0m \u001b[1m0s\u001b[0m 3ms/step - accuracy: 0.8731 - loss: 0.2586 - val_accuracy: 0.8756 - val_loss: 0.2809\n",
      "Epoch 59/500\n",
      "\u001b[1m13/13\u001b[0m \u001b[32m━━━━━━━━━━━━━━━━━━━━\u001b[0m\u001b[37m\u001b[0m \u001b[1m0s\u001b[0m 3ms/step - accuracy: 0.8742 - loss: 0.2769 - val_accuracy: 0.8955 - val_loss: 0.2759\n",
      "Epoch 60/500\n",
      "\u001b[1m13/13\u001b[0m \u001b[32m━━━━━━━━━━━━━━━━━━━━\u001b[0m\u001b[37m\u001b[0m \u001b[1m0s\u001b[0m 4ms/step - accuracy: 0.8998 - loss: 0.2535 - val_accuracy: 0.8806 - val_loss: 0.2786\n",
      "Epoch 61/500\n",
      "\u001b[1m13/13\u001b[0m \u001b[32m━━━━━━━━━━━━━━━━━━━━\u001b[0m\u001b[37m\u001b[0m \u001b[1m0s\u001b[0m 4ms/step - accuracy: 0.8914 - loss: 0.2450 - val_accuracy: 0.8756 - val_loss: 0.2745\n",
      "Epoch 62/500\n",
      "\u001b[1m13/13\u001b[0m \u001b[32m━━━━━━━━━━━━━━━━━━━━\u001b[0m\u001b[37m\u001b[0m \u001b[1m0s\u001b[0m 5ms/step - accuracy: 0.8891 - loss: 0.2387 - val_accuracy: 0.8607 - val_loss: 0.2790\n",
      "Epoch 63/500\n",
      "\u001b[1m13/13\u001b[0m \u001b[32m━━━━━━━━━━━━━━━━━━━━\u001b[0m\u001b[37m\u001b[0m \u001b[1m0s\u001b[0m 3ms/step - accuracy: 0.8808 - loss: 0.2307 - val_accuracy: 0.8756 - val_loss: 0.2792\n",
      "Epoch 64/500\n",
      "\u001b[1m13/13\u001b[0m \u001b[32m━━━━━━━━━━━━━━━━━━━━\u001b[0m\u001b[37m\u001b[0m \u001b[1m0s\u001b[0m 3ms/step - accuracy: 0.8942 - loss: 0.2314 - val_accuracy: 0.8607 - val_loss: 0.2766\n",
      "Epoch 65/500\n",
      "\u001b[1m13/13\u001b[0m \u001b[32m━━━━━━━━━━━━━━━━━━━━\u001b[0m\u001b[37m\u001b[0m \u001b[1m0s\u001b[0m 3ms/step - accuracy: 0.8792 - loss: 0.2588 - val_accuracy: 0.8856 - val_loss: 0.2722\n",
      "Epoch 66/500\n",
      "\u001b[1m13/13\u001b[0m \u001b[32m━━━━━━━━━━━━━━━━━━━━\u001b[0m\u001b[37m\u001b[0m \u001b[1m0s\u001b[0m 4ms/step - accuracy: 0.8752 - loss: 0.2747 - val_accuracy: 0.8756 - val_loss: 0.2769\n",
      "Epoch 67/500\n",
      "\u001b[1m13/13\u001b[0m \u001b[32m━━━━━━━━━━━━━━━━━━━━\u001b[0m\u001b[37m\u001b[0m \u001b[1m0s\u001b[0m 3ms/step - accuracy: 0.8939 - loss: 0.2217 - val_accuracy: 0.8756 - val_loss: 0.2761\n",
      "Epoch 68/500\n",
      "\u001b[1m13/13\u001b[0m \u001b[32m━━━━━━━━━━━━━━━━━━━━\u001b[0m\u001b[37m\u001b[0m \u001b[1m0s\u001b[0m 4ms/step - accuracy: 0.8700 - loss: 0.2692 - val_accuracy: 0.8856 - val_loss: 0.2702\n",
      "Epoch 69/500\n",
      "\u001b[1m13/13\u001b[0m \u001b[32m━━━━━━━━━━━━━━━━━━━━\u001b[0m\u001b[37m\u001b[0m \u001b[1m0s\u001b[0m 14ms/step - accuracy: 0.8592 - loss: 0.2642 - val_accuracy: 0.8756 - val_loss: 0.2748\n",
      "Epoch 70/500\n",
      "\u001b[1m13/13\u001b[0m \u001b[32m━━━━━━━━━━━━━━━━━━━━\u001b[0m\u001b[37m\u001b[0m \u001b[1m0s\u001b[0m 6ms/step - accuracy: 0.8622 - loss: 0.2835 - val_accuracy: 0.8756 - val_loss: 0.2729\n",
      "Epoch 71/500\n",
      "\u001b[1m13/13\u001b[0m \u001b[32m━━━━━━━━━━━━━━━━━━━━\u001b[0m\u001b[37m\u001b[0m \u001b[1m0s\u001b[0m 5ms/step - accuracy: 0.8942 - loss: 0.2568 - val_accuracy: 0.8756 - val_loss: 0.2705\n",
      "Epoch 72/500\n",
      "\u001b[1m13/13\u001b[0m \u001b[32m━━━━━━━━━━━━━━━━━━━━\u001b[0m\u001b[37m\u001b[0m \u001b[1m0s\u001b[0m 5ms/step - accuracy: 0.8783 - loss: 0.2487 - val_accuracy: 0.8806 - val_loss: 0.2702\n",
      "Epoch 73/500\n",
      "\u001b[1m13/13\u001b[0m \u001b[32m━━━━━━━━━━━━━━━━━━━━\u001b[0m\u001b[37m\u001b[0m \u001b[1m0s\u001b[0m 8ms/step - accuracy: 0.8781 - loss: 0.2569 - val_accuracy: 0.8856 - val_loss: 0.2731\n",
      "Epoch 74/500\n",
      "\u001b[1m13/13\u001b[0m \u001b[32m━━━━━━━━━━━━━━━━━━━━\u001b[0m\u001b[37m\u001b[0m \u001b[1m0s\u001b[0m 4ms/step - accuracy: 0.8940 - loss: 0.2464 - val_accuracy: 0.8806 - val_loss: 0.2736\n",
      "Epoch 75/500\n",
      "\u001b[1m13/13\u001b[0m \u001b[32m━━━━━━━━━━━━━━━━━━━━\u001b[0m\u001b[37m\u001b[0m \u001b[1m0s\u001b[0m 5ms/step - accuracy: 0.8779 - loss: 0.2767 - val_accuracy: 0.8756 - val_loss: 0.2734\n",
      "Epoch 76/500\n",
      "\u001b[1m13/13\u001b[0m \u001b[32m━━━━━━━━━━━━━━━━━━━━\u001b[0m\u001b[37m\u001b[0m \u001b[1m0s\u001b[0m 7ms/step - accuracy: 0.8981 - loss: 0.2324 - val_accuracy: 0.8856 - val_loss: 0.2727\n",
      "Epoch 77/500\n",
      "\u001b[1m13/13\u001b[0m \u001b[32m━━━━━━━━━━━━━━━━━━━━\u001b[0m\u001b[37m\u001b[0m \u001b[1m0s\u001b[0m 4ms/step - accuracy: 0.8697 - loss: 0.2516 - val_accuracy: 0.8806 - val_loss: 0.2817\n",
      "Epoch 78/500\n",
      "\u001b[1m13/13\u001b[0m \u001b[32m━━━━━━━━━━━━━━━━━━━━\u001b[0m\u001b[37m\u001b[0m \u001b[1m0s\u001b[0m 4ms/step - accuracy: 0.8702 - loss: 0.2602 - val_accuracy: 0.8806 - val_loss: 0.2711\n",
      "Epoch 79/500\n",
      "\u001b[1m13/13\u001b[0m \u001b[32m━━━━━━━━━━━━━━━━━━━━\u001b[0m\u001b[37m\u001b[0m \u001b[1m0s\u001b[0m 5ms/step - accuracy: 0.8716 - loss: 0.2527 - val_accuracy: 0.8806 - val_loss: 0.2721\n",
      "Epoch 80/500\n",
      "\u001b[1m13/13\u001b[0m \u001b[32m━━━━━━━━━━━━━━━━━━━━\u001b[0m\u001b[37m\u001b[0m \u001b[1m0s\u001b[0m 7ms/step - accuracy: 0.8946 - loss: 0.2556 - val_accuracy: 0.8806 - val_loss: 0.2730\n",
      "Epoch 81/500\n",
      "\u001b[1m13/13\u001b[0m \u001b[32m━━━━━━━━━━━━━━━━━━━━\u001b[0m\u001b[37m\u001b[0m \u001b[1m0s\u001b[0m 4ms/step - accuracy: 0.8913 - loss: 0.2320 - val_accuracy: 0.8806 - val_loss: 0.2742\n",
      "Epoch 82/500\n",
      "\u001b[1m13/13\u001b[0m \u001b[32m━━━━━━━━━━━━━━━━━━━━\u001b[0m\u001b[37m\u001b[0m \u001b[1m0s\u001b[0m 4ms/step - accuracy: 0.8653 - loss: 0.2566 - val_accuracy: 0.8856 - val_loss: 0.2731\n",
      "Epoch 83/500\n",
      "\u001b[1m13/13\u001b[0m \u001b[32m━━━━━━━━━━━━━━━━━━━━\u001b[0m\u001b[37m\u001b[0m \u001b[1m0s\u001b[0m 5ms/step - accuracy: 0.8688 - loss: 0.2576 - val_accuracy: 0.8856 - val_loss: 0.2690\n",
      "Epoch 84/500\n",
      "\u001b[1m13/13\u001b[0m \u001b[32m━━━━━━━━━━━━━━━━━━━━\u001b[0m\u001b[37m\u001b[0m \u001b[1m0s\u001b[0m 5ms/step - accuracy: 0.8863 - loss: 0.2317 - val_accuracy: 0.8806 - val_loss: 0.2744\n",
      "Epoch 85/500\n",
      "\u001b[1m13/13\u001b[0m \u001b[32m━━━━━━━━━━━━━━━━━━━━\u001b[0m\u001b[37m\u001b[0m \u001b[1m0s\u001b[0m 4ms/step - accuracy: 0.9022 - loss: 0.2213 - val_accuracy: 0.8756 - val_loss: 0.2800\n",
      "Epoch 86/500\n",
      "\u001b[1m13/13\u001b[0m \u001b[32m━━━━━━━━━━━━━━━━━━━━\u001b[0m\u001b[37m\u001b[0m \u001b[1m0s\u001b[0m 9ms/step - accuracy: 0.8975 - loss: 0.2378 - val_accuracy: 0.8706 - val_loss: 0.2761\n",
      "Epoch 87/500\n",
      "\u001b[1m13/13\u001b[0m \u001b[32m━━━━━━━━━━━━━━━━━━━━\u001b[0m\u001b[37m\u001b[0m \u001b[1m0s\u001b[0m 4ms/step - accuracy: 0.8852 - loss: 0.2216 - val_accuracy: 0.8806 - val_loss: 0.2729\n",
      "Epoch 88/500\n",
      "\u001b[1m13/13\u001b[0m \u001b[32m━━━━━━━━━━━━━━━━━━━━\u001b[0m\u001b[37m\u001b[0m \u001b[1m0s\u001b[0m 5ms/step - accuracy: 0.8829 - loss: 0.2533 - val_accuracy: 0.8856 - val_loss: 0.2722\n",
      "Epoch 89/500\n",
      "\u001b[1m13/13\u001b[0m \u001b[32m━━━━━━━━━━━━━━━━━━━━\u001b[0m\u001b[37m\u001b[0m \u001b[1m0s\u001b[0m 7ms/step - accuracy: 0.8764 - loss: 0.2518 - val_accuracy: 0.9005 - val_loss: 0.2677\n",
      "Epoch 90/500\n",
      "\u001b[1m13/13\u001b[0m \u001b[32m━━━━━━━━━━━━━━━━━━━━\u001b[0m\u001b[37m\u001b[0m \u001b[1m0s\u001b[0m 4ms/step - accuracy: 0.8842 - loss: 0.2211 - val_accuracy: 0.8806 - val_loss: 0.2759\n",
      "Epoch 91/500\n",
      "\u001b[1m13/13\u001b[0m \u001b[32m━━━━━━━━━━━━━━━━━━━━\u001b[0m\u001b[37m\u001b[0m \u001b[1m0s\u001b[0m 6ms/step - accuracy: 0.8721 - loss: 0.2539 - val_accuracy: 0.8756 - val_loss: 0.2779\n",
      "Epoch 92/500\n",
      "\u001b[1m13/13\u001b[0m \u001b[32m━━━━━━━━━━━━━━━━━━━━\u001b[0m\u001b[37m\u001b[0m \u001b[1m0s\u001b[0m 5ms/step - accuracy: 0.9027 - loss: 0.2306 - val_accuracy: 0.8756 - val_loss: 0.2760\n",
      "Epoch 93/500\n",
      "\u001b[1m13/13\u001b[0m \u001b[32m━━━━━━━━━━━━━━━━━━━━\u001b[0m\u001b[37m\u001b[0m \u001b[1m0s\u001b[0m 5ms/step - accuracy: 0.8730 - loss: 0.2611 - val_accuracy: 0.8806 - val_loss: 0.2772\n",
      "Epoch 94/500\n",
      "\u001b[1m13/13\u001b[0m \u001b[32m━━━━━━━━━━━━━━━━━━━━\u001b[0m\u001b[37m\u001b[0m \u001b[1m0s\u001b[0m 7ms/step - accuracy: 0.8956 - loss: 0.2401 - val_accuracy: 0.8856 - val_loss: 0.2786\n",
      "Epoch 95/500\n",
      "\u001b[1m13/13\u001b[0m \u001b[32m━━━━━━━━━━━━━━━━━━━━\u001b[0m\u001b[37m\u001b[0m \u001b[1m0s\u001b[0m 4ms/step - accuracy: 0.8901 - loss: 0.2428 - val_accuracy: 0.8856 - val_loss: 0.2727\n",
      "Epoch 96/500\n",
      "\u001b[1m13/13\u001b[0m \u001b[32m━━━━━━━━━━━━━━━━━━━━\u001b[0m\u001b[37m\u001b[0m \u001b[1m0s\u001b[0m 4ms/step - accuracy: 0.8880 - loss: 0.2755 - val_accuracy: 0.8905 - val_loss: 0.2705\n",
      "Epoch 97/500\n",
      "\u001b[1m13/13\u001b[0m \u001b[32m━━━━━━━━━━━━━━━━━━━━\u001b[0m\u001b[37m\u001b[0m \u001b[1m0s\u001b[0m 5ms/step - accuracy: 0.8805 - loss: 0.2633 - val_accuracy: 0.8856 - val_loss: 0.2730\n",
      "Epoch 98/500\n",
      "\u001b[1m13/13\u001b[0m \u001b[32m━━━━━━━━━━━━━━━━━━━━\u001b[0m\u001b[37m\u001b[0m \u001b[1m0s\u001b[0m 4ms/step - accuracy: 0.8908 - loss: 0.2217 - val_accuracy: 0.8905 - val_loss: 0.2734\n",
      "Epoch 99/500\n",
      "\u001b[1m13/13\u001b[0m \u001b[32m━━━━━━━━━━━━━━━━━━━━\u001b[0m\u001b[37m\u001b[0m \u001b[1m0s\u001b[0m 6ms/step - accuracy: 0.9037 - loss: 0.2328 - val_accuracy: 0.8806 - val_loss: 0.2772\n",
      "Epoch 100/500\n",
      "\u001b[1m13/13\u001b[0m \u001b[32m━━━━━━━━━━━━━━━━━━━━\u001b[0m\u001b[37m\u001b[0m \u001b[1m0s\u001b[0m 4ms/step - accuracy: 0.8886 - loss: 0.2414 - val_accuracy: 0.8806 - val_loss: 0.2785\n",
      "Epoch 101/500\n",
      "\u001b[1m13/13\u001b[0m \u001b[32m━━━━━━━━━━━━━━━━━━━━\u001b[0m\u001b[37m\u001b[0m \u001b[1m0s\u001b[0m 4ms/step - accuracy: 0.8777 - loss: 0.2408 - val_accuracy: 0.8905 - val_loss: 0.2761\n",
      "Epoch 102/500\n",
      "\u001b[1m13/13\u001b[0m \u001b[32m━━━━━━━━━━━━━━━━━━━━\u001b[0m\u001b[37m\u001b[0m \u001b[1m0s\u001b[0m 7ms/step - accuracy: 0.8781 - loss: 0.2356 - val_accuracy: 0.8905 - val_loss: 0.2738\n",
      "Epoch 103/500\n",
      "\u001b[1m13/13\u001b[0m \u001b[32m━━━━━━━━━━━━━━━━━━━━\u001b[0m\u001b[37m\u001b[0m \u001b[1m0s\u001b[0m 4ms/step - accuracy: 0.8778 - loss: 0.2306 - val_accuracy: 0.8856 - val_loss: 0.2742\n",
      "Epoch 104/500\n",
      "\u001b[1m13/13\u001b[0m \u001b[32m━━━━━━━━━━━━━━━━━━━━\u001b[0m\u001b[37m\u001b[0m \u001b[1m0s\u001b[0m 5ms/step - accuracy: 0.8691 - loss: 0.2382 - val_accuracy: 0.8806 - val_loss: 0.2755\n",
      "Epoch 105/500\n",
      "\u001b[1m13/13\u001b[0m \u001b[32m━━━━━━━━━━━━━━━━━━━━\u001b[0m\u001b[37m\u001b[0m \u001b[1m0s\u001b[0m 5ms/step - accuracy: 0.8813 - loss: 0.2352 - val_accuracy: 0.8905 - val_loss: 0.2719\n",
      "Epoch 106/500\n",
      "\u001b[1m13/13\u001b[0m \u001b[32m━━━━━━━━━━━━━━━━━━━━\u001b[0m\u001b[37m\u001b[0m \u001b[1m0s\u001b[0m 5ms/step - accuracy: 0.8845 - loss: 0.2290 - val_accuracy: 0.8856 - val_loss: 0.2723\n",
      "Epoch 107/500\n",
      "\u001b[1m13/13\u001b[0m \u001b[32m━━━━━━━━━━━━━━━━━━━━\u001b[0m\u001b[37m\u001b[0m \u001b[1m0s\u001b[0m 5ms/step - accuracy: 0.8890 - loss: 0.2373 - val_accuracy: 0.8905 - val_loss: 0.2700\n",
      "Epoch 108/500\n",
      "\u001b[1m13/13\u001b[0m \u001b[32m━━━━━━━━━━━━━━━━━━━━\u001b[0m\u001b[37m\u001b[0m \u001b[1m0s\u001b[0m 4ms/step - accuracy: 0.8820 - loss: 0.2459 - val_accuracy: 0.8806 - val_loss: 0.2754\n",
      "Epoch 109/500\n",
      "\u001b[1m13/13\u001b[0m \u001b[32m━━━━━━━━━━━━━━━━━━━━\u001b[0m\u001b[37m\u001b[0m \u001b[1m0s\u001b[0m 4ms/step - accuracy: 0.9074 - loss: 0.2193 - val_accuracy: 0.8856 - val_loss: 0.2730\n",
      "Epoch 110/500\n",
      "\u001b[1m13/13\u001b[0m \u001b[32m━━━━━━━━━━━━━━━━━━━━\u001b[0m\u001b[37m\u001b[0m \u001b[1m0s\u001b[0m 7ms/step - accuracy: 0.8892 - loss: 0.2313 - val_accuracy: 0.8905 - val_loss: 0.2722\n",
      "Epoch 111/500\n",
      "\u001b[1m13/13\u001b[0m \u001b[32m━━━━━━━━━━━━━━━━━━━━\u001b[0m\u001b[37m\u001b[0m \u001b[1m0s\u001b[0m 4ms/step - accuracy: 0.8951 - loss: 0.2249 - val_accuracy: 0.8756 - val_loss: 0.2827\n",
      "Epoch 112/500\n",
      "\u001b[1m13/13\u001b[0m \u001b[32m━━━━━━━━━━━━━━━━━━━━\u001b[0m\u001b[37m\u001b[0m \u001b[1m0s\u001b[0m 4ms/step - accuracy: 0.8799 - loss: 0.2449 - val_accuracy: 0.8905 - val_loss: 0.2705\n",
      "Epoch 113/500\n",
      "\u001b[1m13/13\u001b[0m \u001b[32m━━━━━━━━━━━━━━━━━━━━\u001b[0m\u001b[37m\u001b[0m \u001b[1m0s\u001b[0m 5ms/step - accuracy: 0.8923 - loss: 0.2284 - val_accuracy: 0.8856 - val_loss: 0.2749\n",
      "Epoch 114/500\n",
      "\u001b[1m13/13\u001b[0m \u001b[32m━━━━━━━━━━━━━━━━━━━━\u001b[0m\u001b[37m\u001b[0m \u001b[1m0s\u001b[0m 5ms/step - accuracy: 0.9130 - loss: 0.2189 - val_accuracy: 0.8856 - val_loss: 0.2710\n",
      "Epoch 114: early stopping\n"
     ]
    }
   ],
   "source": [
    "#define callback and start training\n",
    "es_callback = EarlyStopping(monitor=\"val_loss\", \n",
    "                            verbose=1, \n",
    "                            mode=\"min\", \n",
    "                            patience=25)\n",
    "# es_callback = EarlyStopping(monitor=\"accuracy\", \n",
    "#                             verbose=1, \n",
    "#                             mode=\"max\", \n",
    "#                             patience=25)\n",
    "\n",
    "history=model.fit(X_train, y_train, \n",
    "                  epochs=500, \n",
    "                  batch_size=64, \n",
    "                  validation_data=(X_test, y_test), \n",
    "                  verbose=1, \n",
    "                  callbacks=[es_callback])"
   ]
  },
  {
   "cell_type": "code",
   "execution_count": 9,
   "metadata": {},
   "outputs": [
    {
     "name": "stdout",
     "output_type": "stream",
     "text": [
      "\u001b[1m2/2\u001b[0m \u001b[32m━━━━━━━━━━━━━━━━━━━━\u001b[0m\u001b[37m\u001b[0m \u001b[1m0s\u001b[0m 6ms/step - accuracy: 0.8847 - loss: 0.2818 \n"
     ]
    }
   ],
   "source": [
    "val_loss, val_acc = model.evaluate(X_test, y_test, batch_size=128)"
   ]
  },
  {
   "cell_type": "code",
   "execution_count": 10,
   "metadata": {},
   "outputs": [
    {
     "name": "stdout",
     "output_type": "stream",
     "text": [
      "\u001b[1m7/7\u001b[0m \u001b[32m━━━━━━━━━━━━━━━━━━━━\u001b[0m\u001b[37m\u001b[0m \u001b[1m0s\u001b[0m 1ms/step - accuracy: 0.9185 - loss: 0.1944 \n"
     ]
    }
   ],
   "source": [
    "train_loss, train_acc = model.evaluate(X_train, y_train, batch_size=128)"
   ]
  },
  {
   "cell_type": "code",
   "execution_count": 11,
   "metadata": {},
   "outputs": [
    {
     "data": {
      "image/png": "[encoded data removed]",
      "text/plain": [
       "<Figure size 1200x500 with 2 Axes>"
      ]
     },
     "metadata": {},
     "output_type": "display_data"
    }
   ],
   "source": [
    "def plot_history(history):\n",
    "    acc = history.history[\"accuracy\"]\n",
    "    loss = history.history[\"loss\"]\n",
    "    val_loss = history.history[\"val_loss\"]\n",
    "    val_accuracy = history.history[\"val_accuracy\"]\n",
    "    \n",
    "    x = range(1, len(acc) + 1)\n",
    "    \n",
    "    plt.figure(figsize=(12,5))\n",
    "    plt.subplot(1, 2, 1)\n",
    "    plt.plot(x, acc, \"b\", label=\"train\")\n",
    "    plt.plot(x, val_accuracy, \"r\", label=\"validation\")\n",
    "    plt.legend(loc=\"best\")\n",
    "    plt.xlabel(\"Epoch\")\n",
    "    plt.ylabel(\"Accuracy\")\n",
    "    plt.title(\"Model Accuracy\")\n",
    "    \n",
    "    plt.subplot(1, 2, 2)\n",
    "    plt.plot(x, loss, \"b\", label=\"train\")\n",
    "    plt.plot(x, val_loss, \"r\", label=\"validation\")\n",
    "    plt.legend(loc=\"best\")\n",
    "    plt.xlabel(\"Epoch\")\n",
    "    plt.ylabel(\"Loss\")\n",
    "    plt.title(\"Model Loss\")\n",
    "    \n",
    "    # plt.savefig(\"graph/HandPostureModelTrainingHistory1.png\")\n",
    "    \n",
    "plot_history(history)"
   ]
  },
  {
   "cell_type": "code",
   "execution_count": 12,
   "metadata": {},
   "outputs": [
    {
     "name": "stdout",
     "output_type": "stream",
     "text": [
      "\u001b[1m1/1\u001b[0m \u001b[32m━━━━━━━━━━━━━━━━━━━━\u001b[0m\u001b[37m\u001b[0m \u001b[1m0s\u001b[0m 90ms/step\n",
      "[0.9883305  0.01166957]\n",
      "0\n"
     ]
    }
   ],
   "source": [
    "\n",
    "res = model.predict(np.array([predict_val[0]]))\n",
    "print(np.squeeze(res))\n",
    "print(np.argmax(np.squeeze(res)))"
   ]
  },
  {
   "cell_type": "code",
   "execution_count": 13,
   "metadata": {},
   "outputs": [
    {
     "name": "stderr",
     "output_type": "stream",
     "text": [
      "WARNING:absl:You are saving your model as an HDF5 file via `model.save()` or `keras.saving.save_model(model)`. This file format is considered legacy. We recommend using instead the native Keras format, e.g. `model.save('my_model.keras')` or `keras.saving.save_model(model, 'my_model.keras')`. \n"
     ]
    }
   ],
   "source": [
    "model.save('proto_model_test.h5')"
   ]
  }
 ],
 "metadata": {
  "kernelspec": {
   "display_name": "MPLSTM_3.9",
   "language": "python",
   "name": "python3"
  },
  "language_info": {
   "codemirror_mode": {
    "name": "ipython",
    "version": 3
   },
   "file_extension": ".py",
   "mimetype": "text/x-python",
   "name": "python",
   "nbconvert_exporter": "python",
   "pygments_lexer": "ipython3",
   "version": "3.9.6"
  }
 },
 "nbformat": 4,
 "nbformat_minor": 2
}
